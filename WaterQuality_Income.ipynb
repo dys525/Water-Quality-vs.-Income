{
 "cells": [
  {
   "cell_type": "markdown",
   "metadata": {},
   "source": [
    "# Overview"
   ]
  },
  {
   "cell_type": "markdown",
   "metadata": {},
   "source": [
    "*With the goal of finding a correlation between a given area’s wealth and its water quality, we first pulled the seven richest and seven poorest counties in the United States from census data, sorted by Median Household Income. For each of those counties, we found their corresponding water quality measurements for mercury, lead, and chloride from 2010 to 2019. We then averaged up those measurements to give an average water pollution index for that pollutant within the county. Finally, we graphed the data and analyzed it for any correlation between a county’s water quality and its wealth.*"
   ]
  },
  {
   "cell_type": "markdown",
   "metadata": {},
   "source": [
    "# Research Question"
   ]
  },
  {
   "cell_type": "markdown",
   "metadata": {},
   "source": [
    "Within the US, does average income correlate to the water quality in a county?"
   ]
  },
  {
   "cell_type": "markdown",
   "metadata": {},
   "source": [
    "## Background and Prior Work"
   ]
  },
  {
   "cell_type": "markdown",
   "metadata": {},
   "source": [
    "*Water quality in the United States lies within an odd disparity between its coverage by the media and its importance towards the well-being of those who draw water from a community water system. Despite its lack of representation outside of massively destructive cases of water pollution, such as for oil spills or the situation in Flint, Michigan, over 283 million people within the United States draw water from public water systems.1 Over 155,000 public water systems are required to handle this demand, reinforcing the massive infrastructural foundations needed to supply water for everyone.1 Access to clean water is a fundamental requirement for all Americans, which necessitates close scrutiny over any sources that may pollute or otherwise obstruct the distribution of potable water to people across the country.\n",
    "\tHowever, while industries such as agriculture and manufacturing are expanding, water pollution is expanding alongside it. Pesticides on farms and chemical wastes from factories contaminate various water sources, such as rivers, springs, and groundwater, which has led to an increasing number of waterborne illnesses within the US and an increasing negative impact on the ecosystems surrounding these bodies of water. These occurrences followed on the heels of another in a repetitive manner. Even in urban areas, sewage treatment plants are slowly aging and becoming ineffective under increasing workloads; while these plants still filter over 34 billion gallons of wastewater per day, over 850 million gallons of untreated wastewater are being released into the environment each year.2 While our project won’t be focusing on the reduction of untreated wastewater leaking into water sources, we will be addressing one of its effects by focusing on whether the effects of this wastewater pollute poorer areas of the country more than they do richer areas.\n",
    "\tIn terms of prior work performed in this area, the National Water Quality Monitoring Council has very conveniently compiled data from various governmental agencies, such as the United States Geological Survey (USGS) and the Environmental Protection Agency (EPA), into a given database that allows for the access of water quality measurements with respect to location by county, date, time, agency, and pollutants.3 This allows us to easily access the water quality data for any given county and analyze it for our own use.* \n",
    "\n",
    "References (include links):\n",
    "- 1) https://www.cdc.gov/healthywater/drinking/public/index.html \n",
    "- 2) https://www.epa.gov/nutrientpollution/sources-and-solutions-wastewater \n",
    "- 3) https://www.waterqualitydata.us/"
   ]
  },
  {
   "cell_type": "markdown",
   "metadata": {},
   "source": [
    "# Hypothesis\n"
   ]
  },
  {
   "cell_type": "markdown",
   "metadata": {},
   "source": [
    "I believe that if the average income in a county is lower, then the water quality will be worse than a county with higher income. This is because there is less taxpayer money available to counties with lower income; as a result, there will be less allocation of resources to public services within the county and less incentive to focus on fixing water quality in general."
   ]
  },
  {
   "cell_type": "markdown",
   "metadata": {},
   "source": [
    "# Dataset(s)"
   ]
  },
  {
   "cell_type": "markdown",
   "metadata": {},
   "source": [
    "- Dataset Name: Water Quality DataSet \n",
    "- Link to the dataset: https://www.waterqualitydata.us/, which is run by the National Water Quality Monitoring Council.\n",
    "\n",
    "- Number of observations: \n",
    "\n",
    "    The first dataset will hold information about the water quality on drinking water for each county in a group of selected counties based on income. Specific ingredients in the water, such as lead, mercury, and chloride, will be measured as the basis for what qualifies as clean drinking water and what does not.\n",
    "\n",
    "- Explaination of dataset: \n",
    "\n",
    "    This dataset contains water quality readings from over 2.5 million sites across the US ranging from the early 1970s to the modern day. It can distinguish geographically by county, by pollutants, by date and time, by organization collecting the data. We will be using smaller subsets of data derived from this larger dataset that focus only on all the water regulation sites within any specific richest or poorest county, on lead, mercury, and chloride as pollutants, and within the years 2010-2019 with the intention of capturing the current water pollutant situation within the US.\n",
    "    \n",
    "    \n",
    "    \n",
    "- Dataset Name: County Wealth via Median Household Income \n",
    "- Link to the dataset: https://www.census.gov/library/stories/2019/09/us-median-household-income-up-in-2018-from-2017.html, the National Cenus \n",
    "\n",
    "- Number of observations: \n",
    "\n",
    "    A list of counties ranked by average household annual income. The average income will be based on the highest median income data given in 2016.\n",
    "    \n",
    "- Explaination of dataset: \n",
    "\n",
    "     The second dataset contains information regarding the average income of the counties where we will be obtaining the water quality statistics. \n"
   ]
  },
  {
   "cell_type": "markdown",
   "metadata": {},
   "source": [
    "# Setup"
   ]
  },
  {
   "cell_type": "code",
   "execution_count": 89,
   "metadata": {},
   "outputs": [],
   "source": [
    "# Imports \n",
    "%matplotlib inline\n",
    "\n",
    "import numpy as np\n",
    "import pandas as pd\n",
    "import matplotlib.pyplot as plt\n",
    "\n",
    "import patsy\n",
    "import statsmodels.api as sm\n",
    "import scipy.stats as stats\n",
    "from scipy.stats import ttest_ind, chisquare, normaltest"
   ]
  },
  {
   "cell_type": "markdown",
   "metadata": {},
   "source": [
    "# Data Cleaning"
   ]
  },
  {
   "cell_type": "markdown",
   "metadata": {},
   "source": [
    "Describe your data cleaning steps here."
   ]
  },
  {
   "cell_type": "code",
   "execution_count": 90,
   "metadata": {},
   "outputs": [],
   "source": [
    "# This function will clean the data by going through the csv file for each county and get the mean amount of chloride, \n",
    "# mercury, and lead in each county. \n",
    "\n",
    "\n",
    "# Process of data cleaning: \n",
    "    # 1. Removed all columns except for the Characteristic name, Result Measure Value, \n",
    "    #    and Result Measure/Measure Unit Code because those contain the information necessary for measure \n",
    "    #   of contaminant\n",
    "    \n",
    "    # 2. All nan values in the data involving contamination contents of each csv file are\n",
    "    #    being replaced with 0. \n",
    "    \n",
    "    # 3. We separate the contaminants into three data structures and find the necessary information (which\n",
    "    #    is the mean of each contaminant \n",
    "def findaverage_func(name):\n",
    "    df = pd.read_csv(name)\n",
    "    df = df[['CharacteristicName', 'ResultMeasureValue', 'ResultMeasure/MeasureUnitCode']]\n",
    "    \n",
    "    # cleaning up data by replacing nan values with 0\n",
    "    df['ResultMeasureValue'] = df['ResultMeasureValue'].replace(np.nan, 0)\n",
    "    \n",
    "    df_chloride = df[df['CharacteristicName'] == 'Chloride']\n",
    "    df_mercury = df[df['CharacteristicName'] == 'Mercury']\n",
    "    df_lead = df[df['CharacteristicName'] == 'Lead']\n",
    "   \n",
    "    mean_chloride = df_chloride['ResultMeasureValue'].mean()\n",
    "    mean_mercury = df_mercury['ResultMeasureValue'].mean()\n",
    "    mean_lead = df_lead['ResultMeasureValue'].mean()\n",
    "    \n",
    "    # return tuple of mean values\n",
    "    return (mean_chloride, mean_mercury, mean_lead)\n"
   ]
  },
  {
   "cell_type": "markdown",
   "metadata": {},
   "source": [
    "# Data Analysis & Results"
   ]
  },
  {
   "cell_type": "markdown",
   "metadata": {},
   "source": [
    "Include cells that describe the steps in your data analysis."
   ]
  },
  {
   "cell_type": "code",
   "execution_count": 91,
   "metadata": {},
   "outputs": [],
   "source": [
    "# The average chloride, mercury, and lead values are stored in arrays of values for the rich and poor counties.\n",
    "# The plan is to then graph the results to see the levels of chloride. mercury, and lead in the poor and rich counties \n",
    "# and determine the amount of that contaminant in that certain county.\n",
    "\n",
    "# The graphs will show how the amount of contaminants vary from county to county in rich and poor counties\n",
    "poor_names = [\"Breathitt14Poorest.csv\",\"EastCarrollParish8Poorest.csv\", \"Harlan6Poorest.csv\", \n",
    "             \"Leflore4Poorest.csv\", \"Owsley3Poorest.csv\", \"Sumter11Poorest.csv\", \"Wilcox5Poorest.csv\"]\n",
    "\n",
    "rich_names = [\"Loudoun1Richest.csv\", \"Fairfax3Richest.csv\", \"Howard5Richest.csv\", \"Hunterdon6Richest.csv\",\n",
    "             \"Oakland7Richest.csv\", \"Somerset9Richest.csv\", \"Morris10Richest.csv\"]\n",
    "\n",
    "poor_chloride_values = []\n",
    "poor_mercury_values = []\n",
    "poor_lead_values = []\n",
    "\n",
    "rich_chloride_values = []\n",
    "rich_mercury_values = []\n",
    "rich_lead_values = []\n",
    "\n",
    "# get average contaminant levels for each county and store in array for poor cities\n",
    "for county in poor_names:\n",
    "    (chloride, mercury, lead) = findaverage_func(county)\n",
    "    poor_chloride_values.append(chloride)\n",
    "    poor_mercury_values.append(mercury)\n",
    "    poor_lead_values.append(lead)\n",
    "  \n",
    "    \n",
    "# get average contaminant levels for each county and store in array for poor cities\n",
    "for county in rich_names:\n",
    "    (chloride, mercury, lead) = findaverage_func(county)\n",
    "    rich_chloride_values.append(chloride)\n",
    "    rich_mercury_values.append(mercury)\n",
    "    rich_lead_values.append(lead)"
   ]
  },
  {
   "cell_type": "code",
   "execution_count": 93,
   "metadata": {},
   "outputs": [
    {
     "data": {
      "image/png": "[encoded data removed]",
      "text/plain": [
       "<Figure size 432x288 with 1 Axes>"
      ]
     },
     "metadata": {
      "needs_background": "light"
     },
     "output_type": "display_data"
    },
    {
     "name": "stdout",
     "output_type": "stream",
     "text": [
      "  poor counties  mercury level (mg/l)\n",
      "0        Breat.              2.009475\n",
      "1    E.C.Parish             86.333333\n",
      "2        Harlan              0.020154\n",
      "3       Leflore              0.000000\n",
      "4        Owsley              0.776609\n",
      "5        Sumter              0.031515\n",
      "6        Wilcox              0.000000\n"
     ]
    }
   ],
   "source": [
    "# Graph and data chart to show mercury levels in poor cities\n",
    "\n",
    "# Analysis: Mercury levels seem significantly low for the poorer areas except for E.C. Parish, which has the \n",
    "# highest mercury levels in the set. Mercury levels are lower than expected according to hypothesis.\n",
    "plt.xlabel('Poor Counties') \n",
    "plt.ylabel('Mercury content (ng/l)') \n",
    "\n",
    "height = [10, 30, 50, 65, 85, 105, 125]\n",
    "poor_name = ['Breat.', 'E.C.Parish', 'Harlan', 'Leflore', 'Owsley', 'Sumter', 'Wilcox']\n",
    "\n",
    "plt.bar(height, poor_mercury_values, tick_label = poor_name, width = 10, color = ['red'])\n",
    "\n",
    "plt.show() \n",
    " \n",
    "data = {\"poor counties\":poor_name, \"mercury level (ng/l)\":poor_mercury_values}\n",
    "df = pd.DataFrame(data)\n",
    "print(df)"
   ]
  },
  {
   "cell_type": "code",
   "execution_count": 79,
   "metadata": {},
   "outputs": [
    {
     "data": {
      "image/png": "[encoded data removed]",
      "text/plain": [
       "<Figure size 432x288 with 1 Axes>"
      ]
     },
     "metadata": {
      "needs_background": "light"
     },
     "output_type": "display_data"
    },
    {
     "name": "stdout",
     "output_type": "stream",
     "text": [
      "  rich counties  mercury level\n",
      "0       Loudoun       1.289851\n",
      "1       Fairfax       1.102033\n",
      "2        Howard     209.584211\n",
      "3     Hunterdon       1.102033\n",
      "4       Oakland       1.152500\n",
      "5      Somerset      44.011973\n",
      "6        Morris      18.500668\n"
     ]
    }
   ],
   "source": [
    "# Graph and data chart to show mercury levels in rich cities\n",
    "\n",
    "# Analysis: Mercury levels seem significantly high for high income areas, especially Howard, which has the \n",
    "# highest mercury levels in the set of poor and high income properties. Mercury levels are higher than expected \n",
    "# according to hypothesis.\n",
    "plt.xlabel('Rich Counties') \n",
    "plt.ylabel('Mercury content (ng/l)')\n",
    "\n",
    "height = [10, 30, 50, 75, 105, 135, 155]\n",
    "rich_name = ['Loudoun', 'Fairfax', 'Howard', 'Hunterdon', 'Oakland', 'Somerset', 'Morris']\n",
    "\n",
    "plt.bar(height, rich_mercury_values, tick_label = rich_name, width = 10, color = ['green'])\n",
    "\n",
    "plt.show() \n",
    "\n",
    "data = {\"rich counties\":rich_name, \"mercury level (ng/l)\":rich_mercury_values}\n",
    "df = pd.DataFrame(data)\n",
    "print(df)"
   ]
  },
  {
   "cell_type": "code",
   "execution_count": 80,
   "metadata": {},
   "outputs": [
    {
     "data": {
      "image/png": "[encoded data removed]",
      "text/plain": [
       "<Figure size 432x288 with 1 Axes>"
      ]
     },
     "metadata": {
      "needs_background": "light"
     },
     "output_type": "display_data"
    },
    {
     "name": "stdout",
     "output_type": "stream",
     "text": [
      "  poor counties  chloride level\n",
      "0        Breat.        9.974956\n",
      "1    E.C.Parish       19.236250\n",
      "2        Harlan        1.526883\n",
      "3       Leflore       14.231716\n",
      "4        Owsley        8.583864\n",
      "5        Sumter       13.797415\n",
      "6        Wilcox        7.246503\n"
     ]
    }
   ],
   "source": [
    "# Graph and data chart to show chloride levels in poor cities\n",
    "\n",
    "# Analysis: Chloride levels are significantly high for poor income areas, and do not vary significantly between \n",
    "# the poorer income areas. Chloride levels high, which is as expected according to hypothesis.\n",
    "plt.xlabel('Poor Counties') \n",
    "plt.ylabel('Chloride content (mg/l)') \n",
    "\n",
    "height = [10, 30, 50, 65, 85, 105, 125]\n",
    "poor_name = ['Breat.', 'E.C.Parish', 'Harlan', 'Leflore', 'Owsley', 'Sumter', 'Wilcox']\n",
    "\n",
    "plt.bar(height, poor_chloride_values, tick_label = poor_name, width = 10, color = ['red'])\n",
    "\n",
    "plt.show()\n",
    "\n",
    "data = {\"poor counties\":poor_name, \"chloride level (mg/l)\":poor_chloride_values}\n",
    "df = pd.DataFrame(data)\n",
    "print(df)"
   ]
  },
  {
   "cell_type": "code",
   "execution_count": 81,
   "metadata": {},
   "outputs": [
    {
     "data": {
      "image/png": "[encoded data removed]",
      "text/plain": [
       "<Figure size 432x288 with 1 Axes>"
      ]
     },
     "metadata": {
      "needs_background": "light"
     },
     "output_type": "display_data"
    },
    {
     "name": "stdout",
     "output_type": "stream",
     "text": [
      "  rich counties  chloride level\n",
      "0       Loudoun       26.804534\n",
      "1       Fairfax      101.152963\n",
      "2        Howard       52.653700\n",
      "3     Hunterdon      101.152963\n",
      "4       Oakland      105.151380\n",
      "5      Somerset      135.731430\n",
      "6        Morris      107.768808\n"
     ]
    }
   ],
   "source": [
    "# Graph and data chart to show chloride levels in rich cities\n",
    "\n",
    "# Analysis: Chloride levels are significantly high for rich income areas, and do not vary significantly between \n",
    "# the other rich income areas. Chloride levels high, which is not expected according to hypothesis.\n",
    "plt.xlabel('Rich Counties') \n",
    "plt.ylabel('Chloride content (mg/l)')\n",
    "\n",
    "height = [10, 30, 50, 75, 105, 135, 155]\n",
    "rich_name = ['Loudoun', 'Fairfax', 'Howard', 'Hunterdon', 'Oakland', 'Somerset', 'Morris']\n",
    "\n",
    "plt.bar(height, rich_chloride_values, tick_label = rich_name, width = 10, color = ['green'])\n",
    "\n",
    "plt.show() \n",
    "\n",
    "data = {\"rich counties\":rich_name, \"chloride level (mg/l)\":rich_chloride_values}\n",
    "df = pd.DataFrame(data)\n",
    "print(df)"
   ]
  },
  {
   "cell_type": "code",
   "execution_count": 82,
   "metadata": {},
   "outputs": [
    {
     "data": {
      "image/png": "[encoded data removed]",
      "text/plain": [
       "<Figure size 432x288 with 1 Axes>"
      ]
     },
     "metadata": {
      "needs_background": "light"
     },
     "output_type": "display_data"
    },
    {
     "name": "stdout",
     "output_type": "stream",
     "text": [
      "  poor counties  lead level\n",
      "0        Breat.   10.336448\n",
      "1    E.C.Parish    0.088333\n",
      "2        Harlan    0.068647\n",
      "3       Leflore    2.381000\n",
      "4        Owsley    4.831553\n",
      "5        Sumter    0.054825\n",
      "6        Wilcox    0.039588\n"
     ]
    }
   ],
   "source": [
    "# Graph and data chart to show lead levels in poor cities\n",
    "\n",
    "# Analysis: Lead levels are somewhat low for poorer income areas, but do not vary overall \n",
    "# much significantly for a poor income area. Lead levels are low, which is not expected according to hypothesis.\n",
    "plt.xlabel('Poor Counties') \n",
    "plt.ylabel('Lead content (ug/l)') \n",
    "\n",
    "height = [10, 30, 50, 65, 85, 105, 125]\n",
    "poor_name = ['Breat.', 'E.C.Parish', 'Harlan', 'Leflore', 'Owsley', 'Sumter', 'Wilcox']\n",
    "\n",
    "plt.bar(height, poor_lead_values, tick_label = poor_name, width = 10, color = ['red'])\n",
    "\n",
    "plt.show()\n",
    "\n",
    "data = {\"poor counties\":poor_name, \"lead level (ug/l)\":poor_lead_values}\n",
    "df = pd.DataFrame(data)\n",
    "print(df) "
   ]
  },
  {
   "cell_type": "code",
   "execution_count": 83,
   "metadata": {},
   "outputs": [
    {
     "data": {
      "image/png": "[encoded data removed]",
      "text/plain": [
       "<Figure size 432x288 with 1 Axes>"
      ]
     },
     "metadata": {
      "needs_background": "light"
     },
     "output_type": "display_data"
    },
    {
     "name": "stdout",
     "output_type": "stream",
     "text": [
      "  rich counties  lead level\n",
      "0       Loudoun    0.336051\n",
      "1       Fairfax   15.694167\n",
      "2        Howard    0.339500\n",
      "3     Hunterdon   15.694167\n",
      "4       Oakland    0.056861\n",
      "5      Somerset    2.845363\n",
      "6        Morris    1.894978\n"
     ]
    }
   ],
   "source": [
    "# Graph and data chart to show lead levels in rich cities\n",
    "\n",
    "# Analysis: Lead levels are somewhat low for rich income areas\n",
    "# Lead levels are low, which is expected according to hypothesis.\n",
    "plt.xlabel('Rich Counties') \n",
    "plt.ylabel('Lead content (ug/l)')\n",
    "\n",
    "height = [10, 30, 50, 75, 105, 135, 155]\n",
    "rich_name = ['Loudoun', 'Fairfax', 'Howard', 'Hunterdon', 'Oakland', 'Somerset', 'Morris']\n",
    "\n",
    "plt.bar(height, rich_lead_values, tick_label = rich_name, width = 10, color = ['green'])\n",
    "\n",
    "plt.show() \n",
    "\n",
    "data = {\"rich counties\":rich_name, \"lead level (ug/l)\":rich_lead_values}\n",
    "df = pd.DataFrame(data)\n",
    "print(df)"
   ]
  },
  {
   "cell_type": "code",
   "execution_count": 88,
   "metadata": {},
   "outputs": [
    {
     "data": {
      "image/png": "[encoded data removed]",
      "text/plain": [
       "<Figure size 432x288 with 1 Axes>"
      ]
     },
     "metadata": {
      "needs_background": "light"
     },
     "output_type": "display_data"
    },
    {
     "name": "stdout",
     "output_type": "stream",
     "text": [
      "   all counties  mercury level\n",
      "0        Breat.       4.831553\n",
      "1    E.C.Parish       2.381000\n",
      "2        Harlan       0.039588\n",
      "3       Leflore       0.068647\n",
      "4        Owsley       0.088333\n",
      "5        Sumter       0.054825\n",
      "6        Wilcox      10.336448\n",
      "7        Morris       1.894978\n",
      "8      Somerset       2.845363\n",
      "9       Oakland       0.056861\n",
      "10    Hunterdon      15.694167\n",
      "11       Howard       0.339500\n",
      "12      Fairfax      15.694167\n",
      "13      Loudoun       0.336051\n"
     ]
    },
    {
     "data": {
      "image/png": "[encoded data removed]",
      "text/plain": [
       "<Figure size 432x288 with 1 Axes>"
      ]
     },
     "metadata": {
      "needs_background": "light"
     },
     "output_type": "display_data"
    },
    {
     "name": "stdout",
     "output_type": "stream",
     "text": [
      "   all counties  chloride level\n",
      "0        Breat.        8.583864\n",
      "1    E.C.Parish       14.231716\n",
      "2        Harlan        7.246503\n",
      "3       Leflore        1.526883\n",
      "4        Owsley       19.236250\n",
      "5        Sumter       13.797415\n",
      "6        Wilcox        9.974956\n",
      "7        Morris      107.768808\n",
      "8      Somerset      135.731430\n",
      "9       Oakland      105.151380\n",
      "10    Hunterdon      101.152963\n",
      "11       Howard       52.653700\n",
      "12      Fairfax      101.152963\n",
      "13      Loudoun       26.804534\n"
     ]
    },
    {
     "data": {
      "image/png": "[encoded data removed]",
      "text/plain": [
       "<Figure size 432x288 with 1 Axes>"
      ]
     },
     "metadata": {
      "needs_background": "light"
     },
     "output_type": "display_data"
    },
    {
     "name": "stdout",
     "output_type": "stream",
     "text": [
      "   all counties  lead level\n",
      "0        Breat.    4.831553\n",
      "1    E.C.Parish    2.381000\n",
      "2        Harlan    0.039588\n",
      "3       Leflore    0.068647\n",
      "4        Owsley    0.088333\n",
      "5        Sumter    0.054825\n",
      "6        Wilcox   10.336448\n",
      "7        Morris    1.894978\n",
      "8      Somerset    2.845363\n",
      "9       Oakland    0.056861\n",
      "10    Hunterdon   15.694167\n",
      "11       Howard    0.339500\n",
      "12      Fairfax   15.694167\n",
      "13      Loudoun    0.336051\n"
     ]
    }
   ],
   "source": [
    "# Graph contaminant levels from poorest city to richest city and display in a graph and data chart to summarize \n",
    "# the data from the individual statistics and take a look at how contaminant levels rise/fall from poor to rich \n",
    "# cities.\n",
    "\n",
    "# Analysis: Overall, it seems as if the poor income areas have less contamination levels of the certain contaminants \n",
    "#           than the high income areas. \n",
    "chloride_values = []\n",
    "mercury_values = []\n",
    "lead_values = []\n",
    "\n",
    "\n",
    "poor_to_rich = [\"Owsley3Poorest.csv\", \"Leflore4Poorest.csv\", \"Wilcox5Poorest.csv\", \n",
    "                \"Harlan6Poorest.csv\", \"EastCarrollParish8Poorest.csv\", \"Sumter11Poorest.csv\", \"Breathitt14Poorest.csv\", \n",
    "                \"Morris10Richest.csv\", \"Somerset9Richest.csv\", \"Oakland7Richest.csv\", \"Hunterdon6Richest.csv\", \n",
    "                \"Howard5Richest.csv\", \"Fairfax3Richest.csv\", \"Loudoun1Richest.csv\"]\n",
    "\n",
    "for county in poor_to_rich:\n",
    "    (chloride, mercury, lead) = findaverage_func(county)\n",
    "    chloride_values.append(chloride)\n",
    "    mercury_values.append(mercury)\n",
    "    lead_values.append(lead)\n",
    "    \n",
    "# Mercury content graph and data\n",
    "plt.xlabel('All Counties') \n",
    "plt.ylabel('Mercury content')\n",
    "\n",
    "height = [10, 20, 30, 40, 50, 60, 70, 80, 90, 100, 110, 120, 130, 140]\n",
    "names_of_all = ['Breat.', 'E.C.Parish', 'Harlan', 'Leflore', 'Owsley', 'Sumter', 'Wilcox', 'Morris',\n",
    "                'Somerset', 'Oakland', 'Hunterdon', 'Howard', 'Fairfax', 'Loudoun']\n",
    "\n",
    "plt.bar(height, mercury_values, tick_label = names_of_all, width = 10, color = ['blue'])\n",
    "\n",
    "plt.show() \n",
    "\n",
    "data = {\"all counties\": names_of_all, \"mercury level\":lead_values}\n",
    "df = pd.DataFrame(data)\n",
    "print(df)\n",
    "\n",
    "# Chloride content graph and data\n",
    "plt.xlabel('All Counties') \n",
    "plt.ylabel('Chloride content')\n",
    "\n",
    "plt.bar(height, chloride_values, tick_label = names_of_all, width = 10, color = ['blue'])\n",
    "\n",
    "plt.show() \n",
    "\n",
    "data = {\"all counties\": names_of_all, \"chloride level\":chloride_values}\n",
    "df = pd.DataFrame(data)\n",
    "print(df)\n",
    "\n",
    "# Lead content graph and data\n",
    "plt.xlabel('All Counties') \n",
    "plt.ylabel('Lead content')\n",
    "\n",
    "plt.bar(height, lead_values, tick_label = names_of_all, width = 10, color = ['blue'])\n",
    "\n",
    "plt.show() \n",
    "\n",
    "data = {\"all counties\": names_of_all, \"lead level\":lead_values}\n",
    "df = pd.DataFrame(data)\n",
    "print(df)"
   ]
  },
  {
   "cell_type": "code",
   "execution_count": 94,
   "metadata": {},
   "outputs": [
    {
     "name": "stdout",
     "output_type": "stream",
     "text": [
      "\n",
      "\n",
      "KENDALL TAU VALUES FOR MERCURY, CHLORIDE, & LEAD:\n",
      "-0.37569634167468435 -0.3666893025074554 -0.17679827843514556\n",
      "\n",
      "P_VALUES VALUES FOR MERCURY, CHLORIDE, & LEAD:\n",
      "0.06230460877213063 0.06998308046248117 0.38035967995686015\n"
     ]
    }
   ],
   "source": [
    "# Calculate kendall tau statistic for all three contaminants to determine the correlation between the average income\n",
    "# in a county and the amount of the contaminant in the county. \n",
    "\n",
    "\n",
    "# Analysis: After the Tau statistic for the Mercury contaminant turned out to be 0.376, for the Chloride contaminant \n",
    "#           turned out to be 0.366, and for the Lead contaminant turned out to be 0.177, it does not match anywhere \n",
    "#           near a 1:1 correspondence that we expected to see with the decreasing amounts of contaminants when we sorted our counties \n",
    "#           from poorest to richest. This means that our results show that there isn't a difference between rich \n",
    "#           and poor income and contaminant levels. \n",
    "\n",
    "nums = [14, 13, 12, 11, 10, 9, 8, 7 ,6, 5 , 4 , 3, 2 , 1]\n",
    "\n",
    "tau1, p_value1 = stats.kendalltau(nums, chloride_values)\n",
    "\n",
    "tau2, p_value2 = stats.kendalltau(nums, mercury_values)\n",
    "\n",
    "tau3, p_value3 = stats.kendalltau(nums, lead_values)\n",
    "\n",
    "print ('')\n",
    "print ('')\n",
    "\n",
    "print( \"KENDALL TAU VALUES FOR MERCURY, CHLORIDE, & LEAD:\") \n",
    "print (tau1, tau2, tau3)\n",
    "\n",
    "print ('')\n",
    "\n",
    "print( \"P_VALUES VALUES FOR MERCURY, CHLORIDE, & LEAD:\") \n",
    "print (p_value1, p_value2, p_value3)"
   ]
  },
  {
   "cell_type": "markdown",
   "metadata": {},
   "source": [
    "# Ethics & Privacy"
   ]
  },
  {
   "cell_type": "markdown",
   "metadata": {},
   "source": [
    "1. One of the most important responsibilities of the US government is to treat every one of its citizens fairly and equally, whether that be in the prosecution of the law or the allocation of resources. In such a capitalist environment, people are supposed to be given an unbiased start, with their talent and hard work determining where they will end up in life. As a result, it will be an ethical discrepancy if individuals from different parts of the US are not given access to the same quality of basic necessities, such as water, due to their income level.\n",
    "2. During data collection, some of the biases we considered was the idea that we would find less or insufficient data from lower income or sparsely populated counties as there would be a lack of urgency for water quality testing in those areas.\n",
    "3. The more affluent population has better access to cleaner water as they can have their own water supply or water purification systems installed in their homes, and we will not be able to extrapolate this data as we are only dealing with public water systems.\n",
    "4. Certain areas might be prone to different contaminants due to geographic factors such as climate and weather, rather than human-created factors.\n"
   ]
  },
  {
   "cell_type": "markdown",
   "metadata": {},
   "source": [
    "# Conclusion & Discussion"
   ]
  },
  {
   "cell_type": "markdown",
   "metadata": {},
   "source": [
    "*    In conclusion, my data suggests that my original hypothesis was wrong, and that there is no correlation between the contaminants and the average income level of the counties. We can confidently say this as the Tau statistic for the Mercury contaminant turned out to be 0.376, for the Chloride contaminant turned out to be 0.366, and for the lead contaminant turned out to be 0.177. This does not match anywhere near a 1:1 correspondence that I expected to see with the decreasing amounts of contaminants when I sorted our counties from poorest to richest. \n",
    "\t\n",
    "    \n",
    "*    Looking back at my research and data analysis, this could make sense as I only looked at three common contaminants to justify whether household income is a factor in poor water quality between different counties in the United States. However, my research falls short in the sense that I only investigated three contaminants, and there is a probability that poorer income areas might have less amounts of these contaminants, but a larger variety of other contaminants as compared to richer areas. Additionally, the hypothesis might be as such because of the fact that once a water providing service meets the EPA standards, there is little motivation for that service to improve its water quality past that standard as further filtering might seem unnecessary in regards to costs."
   ]
  },
  {
   "cell_type": "code",
   "execution_count": null,
   "metadata": {},
   "outputs": [],
   "source": []
  }
 ],
 "metadata": {
  "kernelspec": {
   "display_name": "Python 3",
   "language": "python",
   "name": "python3"
  },
  "language_info": {
   "codemirror_mode": {
    "name": "ipython",
    "version": 3
   },
   "file_extension": ".py",
   "mimetype": "text/x-python",
   "name": "python",
   "nbconvert_exporter": "python",
   "pygments_lexer": "ipython3",
   "version": "3.6.7"
  }
 },
 "nbformat": 4,
 "nbformat_minor": 2
}
